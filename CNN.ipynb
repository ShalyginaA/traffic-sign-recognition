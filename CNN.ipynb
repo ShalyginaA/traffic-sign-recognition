{
 "cells": [
  {
   "cell_type": "markdown",
   "metadata": {},
   "source": [
    "Link to the dataset: http://www.nlpr.ia.ac.cn/pal/trafficdata/recognition.html"
   ]
  },
  {
   "cell_type": "code",
   "execution_count": 1,
   "metadata": {},
   "outputs": [],
   "source": [
    "import numpy as np\n",
    "import pandas as pd\n",
    "import cv2\n",
    "from skimage import color, exposure, transform"
   ]
  },
  {
   "cell_type": "code",
   "execution_count": 2,
   "metadata": {},
   "outputs": [],
   "source": [
    "from skimage import io\n",
    "import os\n",
    "import glob"
   ]
  },
  {
   "cell_type": "code",
   "execution_count": 3,
   "metadata": {},
   "outputs": [
    {
     "name": "stderr",
     "output_type": "stream",
     "text": [
      "Using TensorFlow backend.\n"
     ]
    }
   ],
   "source": [
    "from keras.optimizers import SGD\n",
    "from cnn import cnn"
   ]
  },
  {
   "cell_type": "code",
   "execution_count": 4,
   "metadata": {},
   "outputs": [],
   "source": [
    "import warnings\n",
    "warnings.filterwarnings(\"ignore\")"
   ]
  },
  {
   "cell_type": "code",
   "execution_count": 5,
   "metadata": {},
   "outputs": [],
   "source": [
    "img_size = 50"
   ]
  },
  {
   "cell_type": "code",
   "execution_count": 6,
   "metadata": {},
   "outputs": [],
   "source": [
    "def preprocess_img(img, img_size):\n",
    "    # Histogram normalization\n",
    "    hsv = color.rgb2hsv(img)\n",
    "    hsv[:, :, 2] = exposure.equalize_hist(hsv[:, :, 2])\n",
    "    img = color.hsv2rgb(hsv)\n",
    "\n",
    "    # central square crop\n",
    "    min_side = min(img.shape[:-1])\n",
    "    centre = img.shape[0] // 2, img.shape[1] // 2\n",
    "    img = img[centre[0] - min_side // 2:centre[0] + min_side // 2,\n",
    "              centre[1] - min_side // 2:centre[1] + min_side // 2,:]\n",
    "\n",
    "    # rescale to standard size\n",
    "    img = transform.resize(img, (img_size, img_size))\n",
    "\n",
    "    # roll color axis to axis 0\n",
    "    img = np.rollaxis(img, -1)\n",
    "    \n",
    "    return img"
   ]
  },
  {
   "cell_type": "code",
   "execution_count": 7,
   "metadata": {},
   "outputs": [],
   "source": [
    "def get_class(img_path):\n",
    "    return int(img_path.split('/')[-1].split('_')[0])\n",
    "\n",
    "root_dir = 'chn/train_images'\n",
    "imgs = []\n",
    "labels = []\n",
    "\n",
    "all_img_paths = glob.glob(os.path.join(root_dir, '*'))\n",
    "np.random.shuffle(all_img_paths)\n",
    "for img_path in all_img_paths:\n",
    "    img = preprocess_img(io.imread(img_path), img_size)\n",
    "    label = get_class(img_path)\n",
    "    imgs.append(img)\n",
    "    labels.append(label)\n",
    "\n",
    "num_classes = len(set(labels))\n",
    "X = np.array(imgs, dtype='float32')\n",
    "# Make one hot targets\n",
    "Y = np.eye(num_classes, dtype='uint8')[labels]"
   ]
  },
  {
   "cell_type": "code",
   "execution_count": 8,
   "metadata": {},
   "outputs": [
    {
     "data": {
      "text/plain": [
       "(4170, 58)"
      ]
     },
     "execution_count": 8,
     "metadata": {},
     "output_type": "execute_result"
    }
   ],
   "source": [
    "Y.shape"
   ]
  },
  {
   "cell_type": "code",
   "execution_count": 9,
   "metadata": {},
   "outputs": [
    {
     "data": {
      "text/plain": [
       "(4170, 3, 50, 50)"
      ]
     },
     "execution_count": 9,
     "metadata": {},
     "output_type": "execute_result"
    }
   ],
   "source": [
    "X.shape"
   ]
  },
  {
   "cell_type": "code",
   "execution_count": 10,
   "metadata": {},
   "outputs": [],
   "source": [
    "model = cnn(img_size,num_classes)\n",
    "\n",
    "# let's train the model using SGD + momentum\n",
    "lr = 0.01\n",
    "sgd = SGD(lr=lr, decay=1e-6, momentum=0.9, nesterov=True)\n",
    "model.compile(loss='categorical_crossentropy',\n",
    "              optimizer=sgd,\n",
    "              metrics=['accuracy'])"
   ]
  },
  {
   "cell_type": "code",
   "execution_count": 11,
   "metadata": {},
   "outputs": [
    {
     "name": "stdout",
     "output_type": "stream",
     "text": [
      "Epoch 1/15\n",
      "4170/4170 [==============================] - 81s 19ms/step - loss: 3.6757 - acc: 0.0942\n",
      "Epoch 2/15\n",
      "4170/4170 [==============================] - 114s 27ms/step - loss: 2.6049 - acc: 0.3331\n",
      "Epoch 3/15\n",
      "4170/4170 [==============================] - 134s 32ms/step - loss: 1.0642 - acc: 0.7000\n",
      "Epoch 4/15\n",
      "4170/4170 [==============================] - 89s 21ms/step - loss: 0.6120 - acc: 0.8199\n",
      "Epoch 5/15\n",
      "4170/4170 [==============================] - 127s 30ms/step - loss: 0.4408 - acc: 0.8736\n",
      "Epoch 6/15\n",
      "4170/4170 [==============================] - 84s 20ms/step - loss: 0.2764 - acc: 0.9192\n",
      "Epoch 7/15\n",
      "4170/4170 [==============================] - 132s 32ms/step - loss: 0.2267 - acc: 0.9355\n",
      "Epoch 8/15\n",
      "4170/4170 [==============================] - 75s 18ms/step - loss: 0.1642 - acc: 0.9513\n",
      "Epoch 9/15\n",
      "4170/4170 [==============================] - 77s 18ms/step - loss: 0.1471 - acc: 0.9552\n",
      "Epoch 10/15\n",
      "4170/4170 [==============================] - 96s 23ms/step - loss: 0.1742 - acc: 0.9513\n",
      "Epoch 11/15\n",
      "4170/4170 [==============================] - 132s 32ms/step - loss: 0.1141 - acc: 0.9695\n",
      "Epoch 12/15\n",
      "4170/4170 [==============================] - 124s 30ms/step - loss: 0.0514 - acc: 0.9849\n",
      "Epoch 13/15\n",
      "4170/4170 [==============================] - 78s 19ms/step - loss: 0.0393 - acc: 0.9897\n",
      "Epoch 14/15\n",
      "4170/4170 [==============================] - 102s 24ms/step - loss: 0.0293 - acc: 0.9914\n",
      "Epoch 15/15\n",
      "4170/4170 [==============================] - 158s 38ms/step - loss: 0.0286 - acc: 0.9918\n"
     ]
    },
    {
     "data": {
      "text/plain": [
       "<keras.callbacks.History at 0x7f45e0532d68>"
      ]
     },
     "execution_count": 11,
     "metadata": {},
     "output_type": "execute_result"
    }
   ],
   "source": [
    "from keras.callbacks import LearningRateScheduler, ModelCheckpoint\n",
    "\n",
    "#Learning rate scheduler\n",
    "def lr_schedule(epoch):\n",
    "    return lr * (0.1 ** int(epoch / 10))\n",
    "\n",
    "batch_size = 32\n",
    "epochs = 15\n",
    "\n",
    "model.fit(X, Y,\n",
    "          batch_size=batch_size,\n",
    "          epochs=epochs,\n",
    "          #validation_split=0.2,\n",
    "          callbacks=[LearningRateScheduler(lr_schedule),\n",
    "                     ModelCheckpoint('model.h5', save_best_only=True)]\n",
    "          )"
   ]
  },
  {
   "cell_type": "code",
   "execution_count": 13,
   "metadata": {},
   "outputs": [],
   "source": [
    "root_dir = 'chn/test_images'\n",
    "imgs_test = []\n",
    "labels_test = []\n",
    "\n",
    "all_img_paths = glob.glob(os.path.join(root_dir, '*'))\n",
    "np.random.shuffle(all_img_paths)\n",
    "for img_path in all_img_paths:\n",
    "    img = preprocess_img(io.imread(img_path), img_size)\n",
    "    label = get_class(img_path)\n",
    "    imgs_test.append(img)\n",
    "    labels_test.append(label)\n",
    "\n",
    "X_test = np.array(imgs_test, dtype='float32')\n",
    "y_test = np.array(labels_test)"
   ]
  },
  {
   "cell_type": "code",
   "execution_count": 14,
   "metadata": {},
   "outputs": [],
   "source": [
    "from sklearn.metrics import accuracy_score"
   ]
  },
  {
   "cell_type": "code",
   "execution_count": 15,
   "metadata": {},
   "outputs": [],
   "source": [
    "# predict \n",
    "pred = model.predict_classes(X_test)"
   ]
  },
  {
   "cell_type": "code",
   "execution_count": 16,
   "metadata": {},
   "outputs": [
    {
     "data": {
      "text/plain": [
       "array([ 5, 13,  2, ..., 46, 16, 27])"
      ]
     },
     "execution_count": 16,
     "metadata": {},
     "output_type": "execute_result"
    }
   ],
   "source": [
    "pred"
   ]
  },
  {
   "cell_type": "code",
   "execution_count": 17,
   "metadata": {},
   "outputs": [
    {
     "data": {
      "text/plain": [
       "0.7331995987963892"
      ]
     },
     "execution_count": 17,
     "metadata": {},
     "output_type": "execute_result"
    }
   ],
   "source": [
    "accuracy_score(pred,labels_test)"
   ]
  }
 ],
 "metadata": {
  "kernelspec": {
   "display_name": "Python 3",
   "language": "python",
   "name": "python3"
  },
  "language_info": {
   "codemirror_mode": {
    "name": "ipython",
    "version": 3
   },
   "file_extension": ".py",
   "mimetype": "text/x-python",
   "name": "python",
   "nbconvert_exporter": "python",
   "pygments_lexer": "ipython3",
   "version": "3.6.6"
  }
 },
 "nbformat": 4,
 "nbformat_minor": 2
}
