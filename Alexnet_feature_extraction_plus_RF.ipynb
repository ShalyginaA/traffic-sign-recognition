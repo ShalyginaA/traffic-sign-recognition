{
 "cells": [
  {
   "cell_type": "code",
   "execution_count": 1,
   "metadata": {},
   "outputs": [],
   "source": [
    "import numpy as np\n",
    "import pandas as pd\n",
    "import cv2\n",
    "from skimage import color, exposure, transform"
   ]
  },
  {
   "cell_type": "code",
   "execution_count": 2,
   "metadata": {},
   "outputs": [],
   "source": [
    "from skimage import io\n",
    "import os\n",
    "import glob"
   ]
  },
  {
   "cell_type": "code",
   "execution_count": 3,
   "metadata": {},
   "outputs": [],
   "source": [
    "import warnings\n",
    "warnings.filterwarnings(\"ignore\")"
   ]
  },
  {
   "cell_type": "code",
   "execution_count": 4,
   "metadata": {},
   "outputs": [
    {
     "name": "stderr",
     "output_type": "stream",
     "text": [
      "Using TensorFlow backend.\n"
     ]
    }
   ],
   "source": [
    "from alexnet import alexnet"
   ]
  },
  {
   "cell_type": "code",
   "execution_count": 5,
   "metadata": {},
   "outputs": [],
   "source": [
    "def get_class(img_path):\n",
    "    return int(img_path.split('/')[-1].split('_')[0])"
   ]
  },
  {
   "cell_type": "code",
   "execution_count": 6,
   "metadata": {},
   "outputs": [],
   "source": [
    "img_size = 227\n",
    "num_classes = 58"
   ]
  },
  {
   "cell_type": "code",
   "execution_count": 7,
   "metadata": {},
   "outputs": [
    {
     "name": "stdout",
     "output_type": "stream",
     "text": [
      "_________________________________________________________________\n",
      "Layer (type)                 Output Shape              Param #   \n",
      "=================================================================\n",
      "conv2d_1 (Conv2D)            (None, 227, 227, 96)      34944     \n",
      "_________________________________________________________________\n",
      "activation_1 (Activation)    (None, 227, 227, 96)      0         \n",
      "_________________________________________________________________\n",
      "max_pooling2d_1 (MaxPooling2 (None, 113, 113, 96)      0         \n",
      "_________________________________________________________________\n",
      "conv2d_2 (Conv2D)            (None, 113, 113, 128)     307328    \n",
      "_________________________________________________________________\n",
      "activation_2 (Activation)    (None, 113, 113, 128)     0         \n",
      "_________________________________________________________________\n",
      "max_pooling2d_2 (MaxPooling2 (None, 56, 56, 128)       0         \n",
      "_________________________________________________________________\n",
      "zero_padding2d_1 (ZeroPaddin (None, 58, 58, 128)       0         \n",
      "_________________________________________________________________\n",
      "conv2d_3 (Conv2D)            (None, 58, 58, 384)       442752    \n",
      "_________________________________________________________________\n",
      "activation_3 (Activation)    (None, 58, 58, 384)       0         \n",
      "_________________________________________________________________\n",
      "zero_padding2d_2 (ZeroPaddin (None, 60, 60, 384)       0         \n",
      "_________________________________________________________________\n",
      "conv2d_4 (Conv2D)            (None, 60, 60, 192)       663744    \n",
      "_________________________________________________________________\n",
      "activation_4 (Activation)    (None, 60, 60, 192)       0         \n",
      "_________________________________________________________________\n",
      "zero_padding2d_3 (ZeroPaddin (None, 62, 62, 192)       0         \n",
      "_________________________________________________________________\n",
      "conv2d_5 (Conv2D)            (None, 62, 62, 128)       221312    \n",
      "_________________________________________________________________\n",
      "activation_5 (Activation)    (None, 62, 62, 128)       0         \n",
      "_________________________________________________________________\n",
      "max_pooling2d_3 (MaxPooling2 (None, 31, 31, 128)       0         \n",
      "_________________________________________________________________\n",
      "global_average_pooling2d_1 ( (None, 128)               0         \n",
      "_________________________________________________________________\n",
      "dense_1 (Dense)              (None, 4096)              528384    \n",
      "_________________________________________________________________\n",
      "activation_6 (Activation)    (None, 4096)              0         \n",
      "_________________________________________________________________\n",
      "dropout_1 (Dropout)          (None, 4096)              0         \n",
      "_________________________________________________________________\n",
      "dense_2 (Dense)              (None, 4096)              16781312  \n",
      "_________________________________________________________________\n",
      "activation_7 (Activation)    (None, 4096)              0         \n",
      "_________________________________________________________________\n",
      "dropout_2 (Dropout)          (None, 4096)              0         \n",
      "_________________________________________________________________\n",
      "dense_3 (Dense)              (None, 58)                237626    \n",
      "_________________________________________________________________\n",
      "activation_8 (Activation)    (None, 58)                0         \n",
      "=================================================================\n",
      "Total params: 19,217,402\n",
      "Trainable params: 19,217,402\n",
      "Non-trainable params: 0\n",
      "_________________________________________________________________\n"
     ]
    }
   ],
   "source": [
    "net = alexnet((img_size,img_size,3),num_classes)\n",
    "net.summary()"
   ]
  },
  {
   "cell_type": "code",
   "execution_count": 8,
   "metadata": {},
   "outputs": [],
   "source": [
    "from keras.models import Model"
   ]
  },
  {
   "cell_type": "code",
   "execution_count": 9,
   "metadata": {},
   "outputs": [],
   "source": [
    "#Pick the first Fully-Connected layer as the features which will be of dimension (1 x 4096)\n",
    "fc_layer = Model(inputs=net.input,\n",
    "                outputs=net.get_layer('dense_1').output)"
   ]
  },
  {
   "cell_type": "code",
   "execution_count": 10,
   "metadata": {},
   "outputs": [],
   "source": [
    "features=np.zeros(shape=(4170,4096))"
   ]
  },
  {
   "cell_type": "code",
   "execution_count": 11,
   "metadata": {},
   "outputs": [],
   "source": [
    "root_dir = 'chn/train_images'\n",
    "labels = []\n",
    "i = 0\n",
    "\n",
    "all_img_paths = glob.glob(os.path.join(root_dir, '*'))\n",
    "np.random.shuffle(all_img_paths)\n",
    "for img_path in all_img_paths:\n",
    "    img = cv2.imread(img_path, cv2.IMREAD_COLOR)\n",
    "    img = cv2.resize(img, (img_size, img_size))\n",
    "    img = cv2.cvtColor(img, cv2.COLOR_RGB2BGR)\n",
    "    img = np.expand_dims(img, axis=0)\n",
    "    fc_out = fc_layer.predict(img)\n",
    "    features[i]=fc_out\n",
    "    i += 1\n",
    "    label = get_class(img_path)\n",
    "    labels.append(label)"
   ]
  },
  {
   "cell_type": "code",
   "execution_count": 12,
   "metadata": {},
   "outputs": [],
   "source": [
    "weights = dict(4170/pd.value_counts(pd.Series(labels)))"
   ]
  },
  {
   "cell_type": "code",
   "execution_count": 13,
   "metadata": {},
   "outputs": [],
   "source": [
    "feature_col=[]\n",
    "for i in range(4096):\n",
    "    feature_col.append(\"f_\"+str(i))\n",
    "    i+=1"
   ]
  },
  {
   "cell_type": "code",
   "execution_count": 14,
   "metadata": {},
   "outputs": [
    {
     "name": "stdout",
     "output_type": "stream",
     "text": [
      "Training Features Shape: (4170, 4096)\n"
     ]
    }
   ],
   "source": [
    "#Create DataFrame with features and coloumn name\n",
    "train_features=pd.DataFrame(data=features,columns=feature_col)\n",
    "feature_col = np.array(feature_col)\n",
    "\n",
    "print('Training Features Shape:', train_features.shape)"
   ]
  },
  {
   "cell_type": "code",
   "execution_count": 15,
   "metadata": {},
   "outputs": [
    {
     "data": {
      "text/html": [
       "<div>\n",
       "<style scoped>\n",
       "    .dataframe tbody tr th:only-of-type {\n",
       "        vertical-align: middle;\n",
       "    }\n",
       "\n",
       "    .dataframe tbody tr th {\n",
       "        vertical-align: top;\n",
       "    }\n",
       "\n",
       "    .dataframe thead th {\n",
       "        text-align: right;\n",
       "    }\n",
       "</style>\n",
       "<table border=\"1\" class=\"dataframe\">\n",
       "  <thead>\n",
       "    <tr style=\"text-align: right;\">\n",
       "      <th></th>\n",
       "      <th>f_0</th>\n",
       "      <th>f_1</th>\n",
       "      <th>f_2</th>\n",
       "      <th>f_3</th>\n",
       "      <th>f_4</th>\n",
       "      <th>f_5</th>\n",
       "      <th>f_6</th>\n",
       "      <th>f_7</th>\n",
       "      <th>f_8</th>\n",
       "      <th>f_9</th>\n",
       "      <th>...</th>\n",
       "      <th>f_4086</th>\n",
       "      <th>f_4087</th>\n",
       "      <th>f_4088</th>\n",
       "      <th>f_4089</th>\n",
       "      <th>f_4090</th>\n",
       "      <th>f_4091</th>\n",
       "      <th>f_4092</th>\n",
       "      <th>f_4093</th>\n",
       "      <th>f_4094</th>\n",
       "      <th>f_4095</th>\n",
       "    </tr>\n",
       "  </thead>\n",
       "  <tbody>\n",
       "    <tr>\n",
       "      <th>0</th>\n",
       "      <td>0.147305</td>\n",
       "      <td>-0.089977</td>\n",
       "      <td>-0.534327</td>\n",
       "      <td>-0.815233</td>\n",
       "      <td>-2.325764</td>\n",
       "      <td>0.684446</td>\n",
       "      <td>0.169858</td>\n",
       "      <td>0.044565</td>\n",
       "      <td>-0.217600</td>\n",
       "      <td>0.450530</td>\n",
       "      <td>...</td>\n",
       "      <td>-0.793185</td>\n",
       "      <td>-0.584650</td>\n",
       "      <td>1.130687</td>\n",
       "      <td>0.607453</td>\n",
       "      <td>-1.185670</td>\n",
       "      <td>-1.144166</td>\n",
       "      <td>0.508600</td>\n",
       "      <td>-1.403604</td>\n",
       "      <td>-0.215452</td>\n",
       "      <td>1.235707</td>\n",
       "    </tr>\n",
       "    <tr>\n",
       "      <th>1</th>\n",
       "      <td>0.035624</td>\n",
       "      <td>-0.249447</td>\n",
       "      <td>-0.394788</td>\n",
       "      <td>-0.933148</td>\n",
       "      <td>-2.275973</td>\n",
       "      <td>0.651047</td>\n",
       "      <td>0.296212</td>\n",
       "      <td>0.069433</td>\n",
       "      <td>0.008160</td>\n",
       "      <td>0.585722</td>\n",
       "      <td>...</td>\n",
       "      <td>-0.802366</td>\n",
       "      <td>-0.420069</td>\n",
       "      <td>1.172670</td>\n",
       "      <td>0.578164</td>\n",
       "      <td>-1.244327</td>\n",
       "      <td>-1.427108</td>\n",
       "      <td>0.591066</td>\n",
       "      <td>-1.496932</td>\n",
       "      <td>-0.174917</td>\n",
       "      <td>1.060907</td>\n",
       "    </tr>\n",
       "    <tr>\n",
       "      <th>2</th>\n",
       "      <td>0.142312</td>\n",
       "      <td>-0.116970</td>\n",
       "      <td>-0.586533</td>\n",
       "      <td>-0.966759</td>\n",
       "      <td>-2.714195</td>\n",
       "      <td>0.811704</td>\n",
       "      <td>0.222730</td>\n",
       "      <td>0.074293</td>\n",
       "      <td>-0.213224</td>\n",
       "      <td>0.515086</td>\n",
       "      <td>...</td>\n",
       "      <td>-0.916016</td>\n",
       "      <td>-0.623277</td>\n",
       "      <td>1.336095</td>\n",
       "      <td>0.661686</td>\n",
       "      <td>-1.314371</td>\n",
       "      <td>-1.415309</td>\n",
       "      <td>0.606780</td>\n",
       "      <td>-1.667519</td>\n",
       "      <td>-0.269520</td>\n",
       "      <td>1.369858</td>\n",
       "    </tr>\n",
       "    <tr>\n",
       "      <th>3</th>\n",
       "      <td>0.047218</td>\n",
       "      <td>-0.155637</td>\n",
       "      <td>-0.229608</td>\n",
       "      <td>-0.640501</td>\n",
       "      <td>-1.429647</td>\n",
       "      <td>0.369578</td>\n",
       "      <td>0.188506</td>\n",
       "      <td>0.087002</td>\n",
       "      <td>-0.003211</td>\n",
       "      <td>0.392455</td>\n",
       "      <td>...</td>\n",
       "      <td>-0.472585</td>\n",
       "      <td>-0.329089</td>\n",
       "      <td>0.759969</td>\n",
       "      <td>0.363980</td>\n",
       "      <td>-0.819202</td>\n",
       "      <td>-0.861127</td>\n",
       "      <td>0.407569</td>\n",
       "      <td>-0.918252</td>\n",
       "      <td>-0.109248</td>\n",
       "      <td>0.745959</td>\n",
       "    </tr>\n",
       "    <tr>\n",
       "      <th>4</th>\n",
       "      <td>0.101424</td>\n",
       "      <td>-0.170166</td>\n",
       "      <td>-0.475565</td>\n",
       "      <td>-0.986100</td>\n",
       "      <td>-2.602593</td>\n",
       "      <td>0.766033</td>\n",
       "      <td>0.298426</td>\n",
       "      <td>0.083459</td>\n",
       "      <td>-0.088367</td>\n",
       "      <td>0.481212</td>\n",
       "      <td>...</td>\n",
       "      <td>-0.836984</td>\n",
       "      <td>-0.501946</td>\n",
       "      <td>1.300516</td>\n",
       "      <td>0.647024</td>\n",
       "      <td>-1.278921</td>\n",
       "      <td>-1.455074</td>\n",
       "      <td>0.687796</td>\n",
       "      <td>-1.601824</td>\n",
       "      <td>-0.242419</td>\n",
       "      <td>1.210108</td>\n",
       "    </tr>\n",
       "  </tbody>\n",
       "</table>\n",
       "<p>5 rows × 4096 columns</p>\n",
       "</div>"
      ],
      "text/plain": [
       "        f_0       f_1       f_2       f_3       f_4       f_5       f_6  \\\n",
       "0  0.147305 -0.089977 -0.534327 -0.815233 -2.325764  0.684446  0.169858   \n",
       "1  0.035624 -0.249447 -0.394788 -0.933148 -2.275973  0.651047  0.296212   \n",
       "2  0.142312 -0.116970 -0.586533 -0.966759 -2.714195  0.811704  0.222730   \n",
       "3  0.047218 -0.155637 -0.229608 -0.640501 -1.429647  0.369578  0.188506   \n",
       "4  0.101424 -0.170166 -0.475565 -0.986100 -2.602593  0.766033  0.298426   \n",
       "\n",
       "        f_7       f_8       f_9    ...       f_4086    f_4087    f_4088  \\\n",
       "0  0.044565 -0.217600  0.450530    ...    -0.793185 -0.584650  1.130687   \n",
       "1  0.069433  0.008160  0.585722    ...    -0.802366 -0.420069  1.172670   \n",
       "2  0.074293 -0.213224  0.515086    ...    -0.916016 -0.623277  1.336095   \n",
       "3  0.087002 -0.003211  0.392455    ...    -0.472585 -0.329089  0.759969   \n",
       "4  0.083459 -0.088367  0.481212    ...    -0.836984 -0.501946  1.300516   \n",
       "\n",
       "     f_4089    f_4090    f_4091    f_4092    f_4093    f_4094    f_4095  \n",
       "0  0.607453 -1.185670 -1.144166  0.508600 -1.403604 -0.215452  1.235707  \n",
       "1  0.578164 -1.244327 -1.427108  0.591066 -1.496932 -0.174917  1.060907  \n",
       "2  0.661686 -1.314371 -1.415309  0.606780 -1.667519 -0.269520  1.369858  \n",
       "3  0.363980 -0.819202 -0.861127  0.407569 -0.918252 -0.109248  0.745959  \n",
       "4  0.647024 -1.278921 -1.455074  0.687796 -1.601824 -0.242419  1.210108  \n",
       "\n",
       "[5 rows x 4096 columns]"
      ]
     },
     "execution_count": 15,
     "metadata": {},
     "output_type": "execute_result"
    }
   ],
   "source": [
    "train_features.head()"
   ]
  },
  {
   "cell_type": "code",
   "execution_count": 16,
   "metadata": {},
   "outputs": [],
   "source": [
    "from sklearn.ensemble import RandomForestClassifier"
   ]
  },
  {
   "cell_type": "code",
   "execution_count": 17,
   "metadata": {},
   "outputs": [
    {
     "data": {
      "text/plain": [
       "RandomForestClassifier(bootstrap=True,\n",
       "            class_weight={28: 9.349775784753364, 54: 12.87037037037037, 3: 16.03846153846154, 5: 21.49484536082474, 55: 25.74074074074074, 35: 26.73076923076923, 7: 27.43421052631579, 30: 27.8, 16: 29.366197183098592, 11: 30.217391304347824, 17: 32.07692307692308, 14: 32.578125, 26: 33.095238095238095, 0: 35.33...21.25, 51: 521.25, 18: 521.25, 57: 695.0, 19: 1042.5, 33: 1042.5, 25: 2085.0, 9: 2085.0, 53: 2085.0},\n",
       "            criterion='gini', max_depth=None, max_features='auto',\n",
       "            max_leaf_nodes=None, min_impurity_decrease=0.0,\n",
       "            min_impurity_split=None, min_samples_leaf=1,\n",
       "            min_samples_split=2, min_weight_fraction_leaf=0.0,\n",
       "            n_estimators=100, n_jobs=None, oob_score=False,\n",
       "            random_state=100, verbose=0, warm_start=False)"
      ]
     },
     "execution_count": 17,
     "metadata": {},
     "output_type": "execute_result"
    }
   ],
   "source": [
    "rf = RandomForestClassifier(n_estimators = 100, random_state = 100, class_weight=weights)\n",
    "\n",
    "rf.fit(train_features, labels)"
   ]
  },
  {
   "cell_type": "code",
   "execution_count": 18,
   "metadata": {},
   "outputs": [],
   "source": [
    "test_features=np.zeros(shape=(1994,4096))"
   ]
  },
  {
   "cell_type": "code",
   "execution_count": 19,
   "metadata": {},
   "outputs": [],
   "source": [
    "root_dir = 'chn/test_images'\n",
    "labels_test = []\n",
    "i = 0\n",
    "\n",
    "all_img_paths = glob.glob(os.path.join(root_dir, '*'))\n",
    "np.random.shuffle(all_img_paths)\n",
    "for img_path in all_img_paths:\n",
    "    img = cv2.imread(img_path, cv2.IMREAD_COLOR)\n",
    "    img = cv2.resize(img, (img_size, img_size))\n",
    "    img = cv2.cvtColor(img, cv2.COLOR_RGB2BGR)\n",
    "    img = np.expand_dims(img, axis=0)\n",
    "    fc_out = fc_layer.predict(img)\n",
    "    test_features[i]=fc_out\n",
    "    i += 1\n",
    "    label = get_class(img_path)\n",
    "    labels_test.append(label)"
   ]
  },
  {
   "cell_type": "code",
   "execution_count": 20,
   "metadata": {},
   "outputs": [
    {
     "name": "stdout",
     "output_type": "stream",
     "text": [
      "Training Features Shape: (1994, 4096)\n"
     ]
    }
   ],
   "source": [
    "#Create DataFrame with features and coloumn name\n",
    "test_features=pd.DataFrame(data=test_features,columns=feature_col)\n",
    "feature_col = np.array(feature_col)\n",
    "\n",
    "print('Training Features Shape:', test_features.shape)"
   ]
  },
  {
   "cell_type": "code",
   "execution_count": 21,
   "metadata": {},
   "outputs": [],
   "source": [
    "preds = rf.predict(test_features)"
   ]
  },
  {
   "cell_type": "code",
   "execution_count": 22,
   "metadata": {},
   "outputs": [],
   "source": [
    "from sklearn.metrics import accuracy_score"
   ]
  },
  {
   "cell_type": "code",
   "execution_count": 23,
   "metadata": {},
   "outputs": [
    {
     "data": {
      "text/plain": [
       "0.2728184553660983"
      ]
     },
     "execution_count": 23,
     "metadata": {},
     "output_type": "execute_result"
    }
   ],
   "source": [
    "accuracy_score(preds,labels_test)"
   ]
  },
  {
   "cell_type": "code",
   "execution_count": 24,
   "metadata": {},
   "outputs": [
    {
     "data": {
      "text/plain": [
       "array([17, 54, 54, ...,  5,  4, 55])"
      ]
     },
     "execution_count": 24,
     "metadata": {},
     "output_type": "execute_result"
    }
   ],
   "source": [
    "preds"
   ]
  },
  {
   "cell_type": "code",
   "execution_count": 25,
   "metadata": {},
   "outputs": [
    {
     "data": {
      "text/plain": [
       "array([17,  3, 39, ..., 15,  7, 15])"
      ]
     },
     "execution_count": 25,
     "metadata": {},
     "output_type": "execute_result"
    }
   ],
   "source": [
    "np.array(labels_test)"
   ]
  },
  {
   "cell_type": "code",
   "execution_count": null,
   "metadata": {},
   "outputs": [],
   "source": []
  }
 ],
 "metadata": {
  "kernelspec": {
   "display_name": "Python 3",
   "language": "python",
   "name": "python3"
  },
  "language_info": {
   "codemirror_mode": {
    "name": "ipython",
    "version": 3
   },
   "file_extension": ".py",
   "mimetype": "text/x-python",
   "name": "python",
   "nbconvert_exporter": "python",
   "pygments_lexer": "ipython3",
   "version": "3.6.6"
  }
 },
 "nbformat": 4,
 "nbformat_minor": 2
}
