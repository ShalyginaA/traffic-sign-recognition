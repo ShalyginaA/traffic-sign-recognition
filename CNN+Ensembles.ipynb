{
 "cells": [
  {
   "cell_type": "markdown",
   "metadata": {},
   "source": [
    "Link to the dataset: http://www.nlpr.ia.ac.cn/pal/trafficdata/recognition.html"
   ]
  },
  {
   "cell_type": "markdown",
   "metadata": {},
   "source": [
    "# Chinese Traffic Sign Recognition. Part II"
   ]
  },
  {
   "cell_type": "markdown",
   "metadata": {},
   "source": [
    "## Import libraries"
   ]
  },
  {
   "cell_type": "code",
   "execution_count": 1,
   "metadata": {},
   "outputs": [],
   "source": [
    "import numpy as np\n",
    "import pandas as pd\n",
    "import cv2\n",
    "from skimage import color, exposure, transform"
   ]
  },
  {
   "cell_type": "code",
   "execution_count": 2,
   "metadata": {},
   "outputs": [],
   "source": [
    "from skimage import io\n",
    "import os\n",
    "import glob"
   ]
  },
  {
   "cell_type": "code",
   "execution_count": 3,
   "metadata": {},
   "outputs": [],
   "source": [
    "from sklearn.metrics import accuracy_score"
   ]
  },
  {
   "cell_type": "code",
   "execution_count": 19,
   "metadata": {},
   "outputs": [],
   "source": [
    "from sklearn.ensemble import RandomForestClassifier"
   ]
  },
  {
   "cell_type": "code",
   "execution_count": 4,
   "metadata": {},
   "outputs": [],
   "source": [
    "import warnings\n",
    "warnings.filterwarnings(\"ignore\")"
   ]
  },
  {
   "cell_type": "code",
   "execution_count": 5,
   "metadata": {},
   "outputs": [
    {
     "name": "stderr",
     "output_type": "stream",
     "text": [
      "Using TensorFlow backend.\n"
     ]
    }
   ],
   "source": [
    "from keras.optimizers import SGD\n",
    "from cnn import cnn"
   ]
  },
  {
   "cell_type": "code",
   "execution_count": 6,
   "metadata": {},
   "outputs": [],
   "source": [
    "from keras.models import Model"
   ]
  },
  {
   "cell_type": "code",
   "execution_count": 7,
   "metadata": {},
   "outputs": [],
   "source": [
    "import warnings\n",
    "warnings.filterwarnings(\"ignore\")"
   ]
  },
  {
   "cell_type": "markdown",
   "metadata": {},
   "source": [
    "## Import CNN model for feature extraction"
   ]
  },
  {
   "cell_type": "code",
   "execution_count": 8,
   "metadata": {},
   "outputs": [],
   "source": [
    "img_size = 200"
   ]
  },
  {
   "cell_type": "code",
   "execution_count": 9,
   "metadata": {},
   "outputs": [],
   "source": [
    "model = cnn(img_size,58)\n",
    "lr = 0.01\n",
    "sgd = SGD(lr=lr, decay=1e-6, momentum=0.9, nesterov=True)\n",
    "model.compile(loss='categorical_crossentropy',\n",
    "              optimizer=sgd,\n",
    "              metrics=['accuracy'])"
   ]
  },
  {
   "cell_type": "code",
   "execution_count": 10,
   "metadata": {},
   "outputs": [
    {
     "name": "stdout",
     "output_type": "stream",
     "text": [
      "_________________________________________________________________\n",
      "Layer (type)                 Output Shape              Param #   \n",
      "=================================================================\n",
      "conv2d_1 (Conv2D)            (None, 32, 200, 200)      896       \n",
      "_________________________________________________________________\n",
      "conv2d_2 (Conv2D)            (None, 32, 198, 198)      9248      \n",
      "_________________________________________________________________\n",
      "max_pooling2d_1 (MaxPooling2 (None, 32, 99, 99)        0         \n",
      "_________________________________________________________________\n",
      "dropout_1 (Dropout)          (None, 32, 99, 99)        0         \n",
      "_________________________________________________________________\n",
      "conv2d_3 (Conv2D)            (None, 64, 99, 99)        18496     \n",
      "_________________________________________________________________\n",
      "conv2d_4 (Conv2D)            (None, 64, 97, 97)        36928     \n",
      "_________________________________________________________________\n",
      "max_pooling2d_2 (MaxPooling2 (None, 64, 48, 48)        0         \n",
      "_________________________________________________________________\n",
      "dropout_2 (Dropout)          (None, 64, 48, 48)        0         \n",
      "_________________________________________________________________\n",
      "conv2d_5 (Conv2D)            (None, 128, 48, 48)       73856     \n",
      "_________________________________________________________________\n",
      "conv2d_6 (Conv2D)            (None, 128, 46, 46)       147584    \n",
      "_________________________________________________________________\n",
      "max_pooling2d_3 (MaxPooling2 (None, 128, 23, 23)       0         \n",
      "_________________________________________________________________\n",
      "dropout_3 (Dropout)          (None, 128, 23, 23)       0         \n",
      "_________________________________________________________________\n",
      "flatten_1 (Flatten)          (None, 67712)             0         \n",
      "_________________________________________________________________\n",
      "dense_1 (Dense)              (None, 512)               34669056  \n",
      "_________________________________________________________________\n",
      "dropout_4 (Dropout)          (None, 512)               0         \n",
      "_________________________________________________________________\n",
      "dense_2 (Dense)              (None, 58)                29754     \n",
      "=================================================================\n",
      "Total params: 34,985,818\n",
      "Trainable params: 34,985,818\n",
      "Non-trainable params: 0\n",
      "_________________________________________________________________\n"
     ]
    }
   ],
   "source": [
    "model.summary()"
   ]
  },
  {
   "cell_type": "code",
   "execution_count": 11,
   "metadata": {},
   "outputs": [],
   "source": [
    "layer = Model(inputs=model.input,\n",
    "                outputs=model.get_layer('flatten_1').output)"
   ]
  },
  {
   "cell_type": "markdown",
   "metadata": {},
   "source": [
    "## Load training and test data with features extracted by CNN¶"
   ]
  },
  {
   "cell_type": "code",
   "execution_count": 12,
   "metadata": {},
   "outputs": [],
   "source": [
    "def get_class(img_path):\n",
    "    return int(img_path.split('/')[-1].split('_')[0])"
   ]
  },
  {
   "cell_type": "code",
   "execution_count": 13,
   "metadata": {},
   "outputs": [],
   "source": [
    "features=np.zeros(shape=(4170,67712))"
   ]
  },
  {
   "cell_type": "code",
   "execution_count": 14,
   "metadata": {},
   "outputs": [],
   "source": [
    "root_dir = 'chn/train_images'\n",
    "labels = []\n",
    "i = 0\n",
    "\n",
    "all_img_paths = glob.glob(os.path.join(root_dir, '*'))\n",
    "np.random.shuffle(all_img_paths)\n",
    "for img_path in all_img_paths:\n",
    "    img = cv2.imread(img_path, cv2.IMREAD_COLOR)\n",
    "    img = cv2.resize(img, (img_size, img_size))\n",
    "    img = cv2.cvtColor(img, cv2.COLOR_RGB2BGR)\n",
    "    # roll color axis to axis 0\n",
    "    img = np.rollaxis(img, -1)\n",
    "    img = np.expand_dims(img, axis=0)\n",
    "    out = layer.predict(img)\n",
    "    features[i]=out\n",
    "    i += 1\n",
    "    label = get_class(img_path)\n",
    "    labels.append(label)"
   ]
  },
  {
   "cell_type": "code",
   "execution_count": 15,
   "metadata": {},
   "outputs": [],
   "source": [
    "weights = dict(4170/pd.value_counts(pd.Series(labels)))"
   ]
  },
  {
   "cell_type": "code",
   "execution_count": 16,
   "metadata": {},
   "outputs": [],
   "source": [
    "feature_col=[]\n",
    "for i in range(67712):\n",
    "    feature_col.append(\"f_\"+str(i))\n",
    "    i+=1"
   ]
  },
  {
   "cell_type": "code",
   "execution_count": 17,
   "metadata": {},
   "outputs": [
    {
     "name": "stdout",
     "output_type": "stream",
     "text": [
      "Training Features Shape: (4170, 67712)\n"
     ]
    }
   ],
   "source": [
    "#Create DataFrame with features and coloumn name\n",
    "train_features=pd.DataFrame(data=features,columns=feature_col)\n",
    "feature_col = np.array(feature_col)\n",
    "\n",
    "print('Training Features Shape:', train_features.shape)"
   ]
  },
  {
   "cell_type": "code",
   "execution_count": 18,
   "metadata": {},
   "outputs": [
    {
     "data": {
      "text/html": [
       "<div>\n",
       "<style scoped>\n",
       "    .dataframe tbody tr th:only-of-type {\n",
       "        vertical-align: middle;\n",
       "    }\n",
       "\n",
       "    .dataframe tbody tr th {\n",
       "        vertical-align: top;\n",
       "    }\n",
       "\n",
       "    .dataframe thead th {\n",
       "        text-align: right;\n",
       "    }\n",
       "</style>\n",
       "<table border=\"1\" class=\"dataframe\">\n",
       "  <thead>\n",
       "    <tr style=\"text-align: right;\">\n",
       "      <th></th>\n",
       "      <th>f_0</th>\n",
       "      <th>f_1</th>\n",
       "      <th>f_2</th>\n",
       "      <th>f_3</th>\n",
       "      <th>f_4</th>\n",
       "      <th>f_5</th>\n",
       "      <th>f_6</th>\n",
       "      <th>f_7</th>\n",
       "      <th>f_8</th>\n",
       "      <th>f_9</th>\n",
       "      <th>...</th>\n",
       "      <th>f_67702</th>\n",
       "      <th>f_67703</th>\n",
       "      <th>f_67704</th>\n",
       "      <th>f_67705</th>\n",
       "      <th>f_67706</th>\n",
       "      <th>f_67707</th>\n",
       "      <th>f_67708</th>\n",
       "      <th>f_67709</th>\n",
       "      <th>f_67710</th>\n",
       "      <th>f_67711</th>\n",
       "    </tr>\n",
       "  </thead>\n",
       "  <tbody>\n",
       "    <tr>\n",
       "      <th>0</th>\n",
       "      <td>10.164290</td>\n",
       "      <td>2.641722</td>\n",
       "      <td>0.128619</td>\n",
       "      <td>2.302093</td>\n",
       "      <td>2.854400</td>\n",
       "      <td>-0.000000</td>\n",
       "      <td>-0.000000</td>\n",
       "      <td>7.431935</td>\n",
       "      <td>6.443797</td>\n",
       "      <td>-0.0</td>\n",
       "      <td>...</td>\n",
       "      <td>6.986444</td>\n",
       "      <td>-0.000000</td>\n",
       "      <td>0.818436</td>\n",
       "      <td>2.875782</td>\n",
       "      <td>6.168141</td>\n",
       "      <td>2.275142</td>\n",
       "      <td>4.842099</td>\n",
       "      <td>2.264616</td>\n",
       "      <td>-0.0</td>\n",
       "      <td>-0.0</td>\n",
       "    </tr>\n",
       "    <tr>\n",
       "      <th>1</th>\n",
       "      <td>6.032022</td>\n",
       "      <td>1.678901</td>\n",
       "      <td>-0.000000</td>\n",
       "      <td>0.983069</td>\n",
       "      <td>1.691319</td>\n",
       "      <td>0.473639</td>\n",
       "      <td>0.403501</td>\n",
       "      <td>1.313415</td>\n",
       "      <td>2.885647</td>\n",
       "      <td>-0.0</td>\n",
       "      <td>...</td>\n",
       "      <td>2.906425</td>\n",
       "      <td>0.037887</td>\n",
       "      <td>0.420077</td>\n",
       "      <td>1.395919</td>\n",
       "      <td>1.071897</td>\n",
       "      <td>0.942936</td>\n",
       "      <td>2.166385</td>\n",
       "      <td>1.510920</td>\n",
       "      <td>-0.0</td>\n",
       "      <td>-0.0</td>\n",
       "    </tr>\n",
       "    <tr>\n",
       "      <th>2</th>\n",
       "      <td>3.435413</td>\n",
       "      <td>0.893833</td>\n",
       "      <td>-0.000000</td>\n",
       "      <td>0.865357</td>\n",
       "      <td>0.750154</td>\n",
       "      <td>0.010185</td>\n",
       "      <td>-0.000000</td>\n",
       "      <td>2.146124</td>\n",
       "      <td>2.128632</td>\n",
       "      <td>-0.0</td>\n",
       "      <td>...</td>\n",
       "      <td>1.912038</td>\n",
       "      <td>-0.000000</td>\n",
       "      <td>-0.000000</td>\n",
       "      <td>0.743355</td>\n",
       "      <td>1.252568</td>\n",
       "      <td>0.400162</td>\n",
       "      <td>1.185081</td>\n",
       "      <td>0.761855</td>\n",
       "      <td>-0.0</td>\n",
       "      <td>-0.0</td>\n",
       "    </tr>\n",
       "    <tr>\n",
       "      <th>3</th>\n",
       "      <td>5.420577</td>\n",
       "      <td>1.201374</td>\n",
       "      <td>-0.000000</td>\n",
       "      <td>0.937100</td>\n",
       "      <td>2.005418</td>\n",
       "      <td>0.433577</td>\n",
       "      <td>-0.000000</td>\n",
       "      <td>3.812572</td>\n",
       "      <td>4.083014</td>\n",
       "      <td>-0.0</td>\n",
       "      <td>...</td>\n",
       "      <td>5.892561</td>\n",
       "      <td>-0.000000</td>\n",
       "      <td>0.264951</td>\n",
       "      <td>1.606039</td>\n",
       "      <td>4.843041</td>\n",
       "      <td>1.951752</td>\n",
       "      <td>4.375151</td>\n",
       "      <td>1.849182</td>\n",
       "      <td>-0.0</td>\n",
       "      <td>-0.0</td>\n",
       "    </tr>\n",
       "    <tr>\n",
       "      <th>4</th>\n",
       "      <td>1.838523</td>\n",
       "      <td>0.432497</td>\n",
       "      <td>0.005290</td>\n",
       "      <td>0.303998</td>\n",
       "      <td>0.498672</td>\n",
       "      <td>0.106922</td>\n",
       "      <td>-0.000000</td>\n",
       "      <td>1.229022</td>\n",
       "      <td>1.178539</td>\n",
       "      <td>-0.0</td>\n",
       "      <td>...</td>\n",
       "      <td>5.888288</td>\n",
       "      <td>-0.000000</td>\n",
       "      <td>0.700047</td>\n",
       "      <td>1.956574</td>\n",
       "      <td>4.839325</td>\n",
       "      <td>1.749833</td>\n",
       "      <td>3.770623</td>\n",
       "      <td>1.613146</td>\n",
       "      <td>-0.0</td>\n",
       "      <td>-0.0</td>\n",
       "    </tr>\n",
       "  </tbody>\n",
       "</table>\n",
       "<p>5 rows × 67712 columns</p>\n",
       "</div>"
      ],
      "text/plain": [
       "         f_0       f_1       f_2       f_3       f_4       f_5       f_6  \\\n",
       "0  10.164290  2.641722  0.128619  2.302093  2.854400 -0.000000 -0.000000   \n",
       "1   6.032022  1.678901 -0.000000  0.983069  1.691319  0.473639  0.403501   \n",
       "2   3.435413  0.893833 -0.000000  0.865357  0.750154  0.010185 -0.000000   \n",
       "3   5.420577  1.201374 -0.000000  0.937100  2.005418  0.433577 -0.000000   \n",
       "4   1.838523  0.432497  0.005290  0.303998  0.498672  0.106922 -0.000000   \n",
       "\n",
       "        f_7       f_8  f_9   ...      f_67702   f_67703   f_67704   f_67705  \\\n",
       "0  7.431935  6.443797 -0.0   ...     6.986444 -0.000000  0.818436  2.875782   \n",
       "1  1.313415  2.885647 -0.0   ...     2.906425  0.037887  0.420077  1.395919   \n",
       "2  2.146124  2.128632 -0.0   ...     1.912038 -0.000000 -0.000000  0.743355   \n",
       "3  3.812572  4.083014 -0.0   ...     5.892561 -0.000000  0.264951  1.606039   \n",
       "4  1.229022  1.178539 -0.0   ...     5.888288 -0.000000  0.700047  1.956574   \n",
       "\n",
       "    f_67706   f_67707   f_67708   f_67709  f_67710  f_67711  \n",
       "0  6.168141  2.275142  4.842099  2.264616     -0.0     -0.0  \n",
       "1  1.071897  0.942936  2.166385  1.510920     -0.0     -0.0  \n",
       "2  1.252568  0.400162  1.185081  0.761855     -0.0     -0.0  \n",
       "3  4.843041  1.951752  4.375151  1.849182     -0.0     -0.0  \n",
       "4  4.839325  1.749833  3.770623  1.613146     -0.0     -0.0  \n",
       "\n",
       "[5 rows x 67712 columns]"
      ]
     },
     "execution_count": 18,
     "metadata": {},
     "output_type": "execute_result"
    }
   ],
   "source": [
    "train_features.head()"
   ]
  },
  {
   "cell_type": "code",
   "execution_count": 20,
   "metadata": {},
   "outputs": [],
   "source": [
    "test_features=np.zeros(shape=(1994,67712))"
   ]
  },
  {
   "cell_type": "code",
   "execution_count": 21,
   "metadata": {},
   "outputs": [],
   "source": [
    "root_dir = 'chn/test_images'\n",
    "labels_test = []\n",
    "i = 0\n",
    "\n",
    "all_img_paths = glob.glob(os.path.join(root_dir, '*'))\n",
    "np.random.shuffle(all_img_paths)\n",
    "for img_path in all_img_paths:\n",
    "    img = cv2.imread(img_path, cv2.IMREAD_COLOR)\n",
    "    img = cv2.resize(img, (img_size, img_size))\n",
    "    img = cv2.cvtColor(img, cv2.COLOR_RGB2BGR)\n",
    "    # roll color axis to axis 0\n",
    "    img = np.rollaxis(img, -1)\n",
    "    img = np.expand_dims(img, axis=0)\n",
    "    out = layer.predict(img)\n",
    "    test_features[i]=out\n",
    "    i += 1\n",
    "    label = get_class(img_path)\n",
    "    labels_test.append(label)"
   ]
  },
  {
   "cell_type": "code",
   "execution_count": 22,
   "metadata": {},
   "outputs": [
    {
     "name": "stdout",
     "output_type": "stream",
     "text": [
      "Training Features Shape: (1994, 67712)\n"
     ]
    }
   ],
   "source": [
    "#Create DataFrame with features and coloumn name\n",
    "test_features=pd.DataFrame(data=test_features,columns=feature_col)\n",
    "feature_col = np.array(feature_col)\n",
    "\n",
    "print('Training Features Shape:', test_features.shape)"
   ]
  },
  {
   "cell_type": "markdown",
   "metadata": {},
   "source": [
    "## Train Random Forest classifier"
   ]
  },
  {
   "cell_type": "code",
   "execution_count": 23,
   "metadata": {},
   "outputs": [
    {
     "data": {
      "text/plain": [
       "RandomForestClassifier(bootstrap=True, class_weight=None, criterion='gini',\n",
       "            max_depth=None, max_features='auto', max_leaf_nodes=None,\n",
       "            min_impurity_decrease=0.0, min_impurity_split=None,\n",
       "            min_samples_leaf=1, min_samples_split=2,\n",
       "            min_weight_fraction_leaf=0.0, n_estimators=300, n_jobs=None,\n",
       "            oob_score=False, random_state=100, verbose=0, warm_start=False)"
      ]
     },
     "execution_count": 23,
     "metadata": {},
     "output_type": "execute_result"
    }
   ],
   "source": [
    "rf = RandomForestClassifier(n_estimators = 300, random_state = 100)\n",
    "\n",
    "rf.fit(train_features, labels)"
   ]
  },
  {
   "cell_type": "code",
   "execution_count": 24,
   "metadata": {},
   "outputs": [],
   "source": [
    "preds = rf.predict(test_features)"
   ]
  },
  {
   "cell_type": "code",
   "execution_count": 25,
   "metadata": {},
   "outputs": [
    {
     "data": {
      "text/plain": [
       "0.5025075225677031"
      ]
     },
     "execution_count": 25,
     "metadata": {},
     "output_type": "execute_result"
    }
   ],
   "source": [
    "accuracy_score(preds,labels_test)"
   ]
  },
  {
   "cell_type": "markdown",
   "metadata": {},
   "source": [
    "## Train Random Forest classifier with weights"
   ]
  },
  {
   "cell_type": "code",
   "execution_count": 27,
   "metadata": {},
   "outputs": [],
   "source": [
    "rf2 = RandomForestClassifier(n_estimators=300, random_state=100, class_weight=weights)"
   ]
  },
  {
   "cell_type": "code",
   "execution_count": 28,
   "metadata": {},
   "outputs": [
    {
     "data": {
      "text/plain": [
       "RandomForestClassifier(bootstrap=True,\n",
       "            class_weight={28: 9.349775784753364, 54: 12.87037037037037, 3: 16.03846153846154, 5: 21.49484536082474, 55: 25.74074074074074, 35: 26.73076923076923, 7: 27.43421052631579, 30: 27.8, 16: 29.366197183098592, 11: 30.217391304347824, 17: 32.07692307692308, 14: 32.578125, 26: 33.095238095238095, 0: 35.33...21.25, 51: 521.25, 18: 521.25, 57: 695.0, 19: 1042.5, 33: 1042.5, 25: 2085.0, 9: 2085.0, 53: 2085.0},\n",
       "            criterion='gini', max_depth=None, max_features='auto',\n",
       "            max_leaf_nodes=None, min_impurity_decrease=0.0,\n",
       "            min_impurity_split=None, min_samples_leaf=1,\n",
       "            min_samples_split=2, min_weight_fraction_leaf=0.0,\n",
       "            n_estimators=300, n_jobs=None, oob_score=False,\n",
       "            random_state=100, verbose=0, warm_start=False)"
      ]
     },
     "execution_count": 28,
     "metadata": {},
     "output_type": "execute_result"
    }
   ],
   "source": [
    "rf2.fit(train_features, labels)"
   ]
  },
  {
   "cell_type": "code",
   "execution_count": 29,
   "metadata": {},
   "outputs": [],
   "source": [
    "preds2 = rf2.predict(test_features)"
   ]
  },
  {
   "cell_type": "code",
   "execution_count": null,
   "metadata": {},
   "outputs": [],
   "source": [
    "accuracy_score(preds2,labels_test)"
   ]
  }
 ],
 "metadata": {
  "kernelspec": {
   "display_name": "Python 3",
   "language": "python",
   "name": "python3"
  },
  "language_info": {
   "codemirror_mode": {
    "name": "ipython",
    "version": 3
   },
   "file_extension": ".py",
   "mimetype": "text/x-python",
   "name": "python",
   "nbconvert_exporter": "python",
   "pygments_lexer": "ipython3",
   "version": "3.6.6"
  }
 },
 "nbformat": 4,
 "nbformat_minor": 2
}
