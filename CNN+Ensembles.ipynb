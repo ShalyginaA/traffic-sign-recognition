{
 "cells": [
  {
   "cell_type": "code",
   "execution_count": 1,
   "metadata": {},
   "outputs": [],
   "source": [
    "import numpy as np\n",
    "import pandas as pd\n",
    "import cv2\n",
    "from skimage import color, exposure, transform"
   ]
  },
  {
   "cell_type": "code",
   "execution_count": 2,
   "metadata": {},
   "outputs": [],
   "source": [
    "from skimage import io\n",
    "import os\n",
    "import glob"
   ]
  },
  {
   "cell_type": "code",
   "execution_count": 3,
   "metadata": {},
   "outputs": [],
   "source": [
    "import warnings\n",
    "warnings.filterwarnings(\"ignore\")"
   ]
  },
  {
   "cell_type": "code",
   "execution_count": 4,
   "metadata": {},
   "outputs": [],
   "source": [
    "img_size = 200"
   ]
  },
  {
   "cell_type": "code",
   "execution_count": 5,
   "metadata": {},
   "outputs": [],
   "source": [
    "def get_class(img_path):\n",
    "    return int(img_path.split('/')[-1].split('_')[0])"
   ]
  },
  {
   "cell_type": "code",
   "execution_count": 6,
   "metadata": {},
   "outputs": [
    {
     "name": "stderr",
     "output_type": "stream",
     "text": [
      "Using TensorFlow backend.\n"
     ]
    }
   ],
   "source": [
    "from keras.optimizers import SGD\n",
    "from cnn import cnn"
   ]
  },
  {
   "cell_type": "code",
   "execution_count": 7,
   "metadata": {},
   "outputs": [],
   "source": [
    "model = cnn(img_size,58)\n",
    "\n",
    "# let's train the model using SGD + momentum\n",
    "lr = 0.01\n",
    "sgd = SGD(lr=lr, decay=1e-6, momentum=0.9, nesterov=True)\n",
    "model.compile(loss='categorical_crossentropy',\n",
    "              optimizer=sgd,\n",
    "              metrics=['accuracy'])"
   ]
  },
  {
   "cell_type": "code",
   "execution_count": 8,
   "metadata": {},
   "outputs": [
    {
     "name": "stdout",
     "output_type": "stream",
     "text": [
      "_________________________________________________________________\n",
      "Layer (type)                 Output Shape              Param #   \n",
      "=================================================================\n",
      "conv2d_1 (Conv2D)            (None, 32, 200, 200)      896       \n",
      "_________________________________________________________________\n",
      "conv2d_2 (Conv2D)            (None, 32, 198, 198)      9248      \n",
      "_________________________________________________________________\n",
      "max_pooling2d_1 (MaxPooling2 (None, 32, 99, 99)        0         \n",
      "_________________________________________________________________\n",
      "dropout_1 (Dropout)          (None, 32, 99, 99)        0         \n",
      "_________________________________________________________________\n",
      "conv2d_3 (Conv2D)            (None, 64, 99, 99)        18496     \n",
      "_________________________________________________________________\n",
      "conv2d_4 (Conv2D)            (None, 64, 97, 97)        36928     \n",
      "_________________________________________________________________\n",
      "max_pooling2d_2 (MaxPooling2 (None, 64, 48, 48)        0         \n",
      "_________________________________________________________________\n",
      "dropout_2 (Dropout)          (None, 64, 48, 48)        0         \n",
      "_________________________________________________________________\n",
      "conv2d_5 (Conv2D)            (None, 128, 48, 48)       73856     \n",
      "_________________________________________________________________\n",
      "conv2d_6 (Conv2D)            (None, 128, 46, 46)       147584    \n",
      "_________________________________________________________________\n",
      "max_pooling2d_3 (MaxPooling2 (None, 128, 23, 23)       0         \n",
      "_________________________________________________________________\n",
      "dropout_3 (Dropout)          (None, 128, 23, 23)       0         \n",
      "_________________________________________________________________\n",
      "flatten_1 (Flatten)          (None, 67712)             0         \n",
      "_________________________________________________________________\n",
      "dense_1 (Dense)              (None, 512)               34669056  \n",
      "_________________________________________________________________\n",
      "dropout_4 (Dropout)          (None, 512)               0         \n",
      "_________________________________________________________________\n",
      "dense_2 (Dense)              (None, 58)                29754     \n",
      "=================================================================\n",
      "Total params: 34,985,818\n",
      "Trainable params: 34,985,818\n",
      "Non-trainable params: 0\n",
      "_________________________________________________________________\n"
     ]
    }
   ],
   "source": [
    "model.summary()"
   ]
  },
  {
   "cell_type": "code",
   "execution_count": 9,
   "metadata": {},
   "outputs": [],
   "source": [
    "from keras.models import Model"
   ]
  },
  {
   "cell_type": "code",
   "execution_count": 10,
   "metadata": {},
   "outputs": [],
   "source": [
    "#Pick the first Fully-Connected layer as the features which will be of dimension (1 x 4096)\n",
    "fc_layer = Model(inputs=model.input,\n",
    "                outputs=model.get_layer('flatten_1').output)"
   ]
  },
  {
   "cell_type": "code",
   "execution_count": 11,
   "metadata": {},
   "outputs": [],
   "source": [
    "features=np.zeros(shape=(4170,67712))"
   ]
  },
  {
   "cell_type": "code",
   "execution_count": 12,
   "metadata": {},
   "outputs": [],
   "source": [
    "root_dir = 'chn/train_images'\n",
    "labels = []\n",
    "i = 0\n",
    "\n",
    "all_img_paths = glob.glob(os.path.join(root_dir, '*'))\n",
    "np.random.shuffle(all_img_paths)\n",
    "for img_path in all_img_paths:\n",
    "    img = cv2.imread(img_path, cv2.IMREAD_COLOR)\n",
    "    img = cv2.resize(img, (img_size, img_size))\n",
    "    img = cv2.cvtColor(img, cv2.COLOR_RGB2BGR)\n",
    "    # roll color axis to axis 0\n",
    "    img = np.rollaxis(img, -1)\n",
    "    img = np.expand_dims(img, axis=0)\n",
    "    fc_out = fc_layer.predict(img)\n",
    "    features[i]=fc_out\n",
    "    i += 1\n",
    "    label = get_class(img_path)\n",
    "    labels.append(label)"
   ]
  },
  {
   "cell_type": "code",
   "execution_count": 13,
   "metadata": {},
   "outputs": [],
   "source": [
    "weights = dict(4170/pd.value_counts(pd.Series(labels)))"
   ]
  },
  {
   "cell_type": "code",
   "execution_count": 14,
   "metadata": {},
   "outputs": [],
   "source": [
    "feature_col=[]\n",
    "for i in range(67712):\n",
    "    feature_col.append(\"f_\"+str(i))\n",
    "    i+=1"
   ]
  },
  {
   "cell_type": "code",
   "execution_count": 15,
   "metadata": {},
   "outputs": [
    {
     "name": "stdout",
     "output_type": "stream",
     "text": [
      "Training Features Shape: (4170, 67712)\n"
     ]
    }
   ],
   "source": [
    "#Create DataFrame with features and coloumn name\n",
    "train_features=pd.DataFrame(data=features,columns=feature_col)\n",
    "feature_col = np.array(feature_col)\n",
    "\n",
    "print('Training Features Shape:', train_features.shape)"
   ]
  },
  {
   "cell_type": "code",
   "execution_count": 16,
   "metadata": {},
   "outputs": [
    {
     "data": {
      "text/html": [
       "<div>\n",
       "<style scoped>\n",
       "    .dataframe tbody tr th:only-of-type {\n",
       "        vertical-align: middle;\n",
       "    }\n",
       "\n",
       "    .dataframe tbody tr th {\n",
       "        vertical-align: top;\n",
       "    }\n",
       "\n",
       "    .dataframe thead th {\n",
       "        text-align: right;\n",
       "    }\n",
       "</style>\n",
       "<table border=\"1\" class=\"dataframe\">\n",
       "  <thead>\n",
       "    <tr style=\"text-align: right;\">\n",
       "      <th></th>\n",
       "      <th>f_0</th>\n",
       "      <th>f_1</th>\n",
       "      <th>f_2</th>\n",
       "      <th>f_3</th>\n",
       "      <th>f_4</th>\n",
       "      <th>f_5</th>\n",
       "      <th>f_6</th>\n",
       "      <th>f_7</th>\n",
       "      <th>f_8</th>\n",
       "      <th>f_9</th>\n",
       "      <th>...</th>\n",
       "      <th>f_67702</th>\n",
       "      <th>f_67703</th>\n",
       "      <th>f_67704</th>\n",
       "      <th>f_67705</th>\n",
       "      <th>f_67706</th>\n",
       "      <th>f_67707</th>\n",
       "      <th>f_67708</th>\n",
       "      <th>f_67709</th>\n",
       "      <th>f_67710</th>\n",
       "      <th>f_67711</th>\n",
       "    </tr>\n",
       "  </thead>\n",
       "  <tbody>\n",
       "    <tr>\n",
       "      <th>0</th>\n",
       "      <td>11.598362</td>\n",
       "      <td>-0.0</td>\n",
       "      <td>1.402852</td>\n",
       "      <td>0.782177</td>\n",
       "      <td>-0.0</td>\n",
       "      <td>0.592898</td>\n",
       "      <td>-0.0</td>\n",
       "      <td>-0.0</td>\n",
       "      <td>-0.0</td>\n",
       "      <td>5.907177</td>\n",
       "      <td>...</td>\n",
       "      <td>0.416431</td>\n",
       "      <td>8.404563</td>\n",
       "      <td>3.609438</td>\n",
       "      <td>9.471940</td>\n",
       "      <td>-0.000000</td>\n",
       "      <td>-0.0</td>\n",
       "      <td>0.472691</td>\n",
       "      <td>18.071760</td>\n",
       "      <td>6.395085</td>\n",
       "      <td>-0.0</td>\n",
       "    </tr>\n",
       "    <tr>\n",
       "      <th>1</th>\n",
       "      <td>15.457705</td>\n",
       "      <td>-0.0</td>\n",
       "      <td>1.255111</td>\n",
       "      <td>2.472802</td>\n",
       "      <td>-0.0</td>\n",
       "      <td>1.364558</td>\n",
       "      <td>-0.0</td>\n",
       "      <td>-0.0</td>\n",
       "      <td>-0.0</td>\n",
       "      <td>8.699785</td>\n",
       "      <td>...</td>\n",
       "      <td>2.207372</td>\n",
       "      <td>11.659542</td>\n",
       "      <td>5.516461</td>\n",
       "      <td>10.099456</td>\n",
       "      <td>-0.000000</td>\n",
       "      <td>-0.0</td>\n",
       "      <td>0.451292</td>\n",
       "      <td>22.230301</td>\n",
       "      <td>7.521552</td>\n",
       "      <td>-0.0</td>\n",
       "    </tr>\n",
       "    <tr>\n",
       "      <th>2</th>\n",
       "      <td>8.755809</td>\n",
       "      <td>-0.0</td>\n",
       "      <td>0.144327</td>\n",
       "      <td>0.668798</td>\n",
       "      <td>-0.0</td>\n",
       "      <td>0.504480</td>\n",
       "      <td>-0.0</td>\n",
       "      <td>-0.0</td>\n",
       "      <td>-0.0</td>\n",
       "      <td>4.203548</td>\n",
       "      <td>...</td>\n",
       "      <td>0.248999</td>\n",
       "      <td>4.416994</td>\n",
       "      <td>2.754700</td>\n",
       "      <td>6.235694</td>\n",
       "      <td>0.698579</td>\n",
       "      <td>-0.0</td>\n",
       "      <td>1.981976</td>\n",
       "      <td>10.901007</td>\n",
       "      <td>3.142677</td>\n",
       "      <td>-0.0</td>\n",
       "    </tr>\n",
       "    <tr>\n",
       "      <th>3</th>\n",
       "      <td>18.097448</td>\n",
       "      <td>-0.0</td>\n",
       "      <td>1.419700</td>\n",
       "      <td>2.432855</td>\n",
       "      <td>-0.0</td>\n",
       "      <td>1.586319</td>\n",
       "      <td>-0.0</td>\n",
       "      <td>-0.0</td>\n",
       "      <td>-0.0</td>\n",
       "      <td>10.220373</td>\n",
       "      <td>...</td>\n",
       "      <td>2.239665</td>\n",
       "      <td>12.368978</td>\n",
       "      <td>5.060144</td>\n",
       "      <td>9.938421</td>\n",
       "      <td>-0.000000</td>\n",
       "      <td>-0.0</td>\n",
       "      <td>0.669937</td>\n",
       "      <td>22.822136</td>\n",
       "      <td>7.763309</td>\n",
       "      <td>-0.0</td>\n",
       "    </tr>\n",
       "    <tr>\n",
       "      <th>4</th>\n",
       "      <td>10.592823</td>\n",
       "      <td>-0.0</td>\n",
       "      <td>0.549146</td>\n",
       "      <td>1.956214</td>\n",
       "      <td>-0.0</td>\n",
       "      <td>1.165373</td>\n",
       "      <td>-0.0</td>\n",
       "      <td>-0.0</td>\n",
       "      <td>-0.0</td>\n",
       "      <td>5.830818</td>\n",
       "      <td>...</td>\n",
       "      <td>2.310171</td>\n",
       "      <td>14.157263</td>\n",
       "      <td>7.132648</td>\n",
       "      <td>12.166813</td>\n",
       "      <td>-0.000000</td>\n",
       "      <td>-0.0</td>\n",
       "      <td>1.198488</td>\n",
       "      <td>24.739262</td>\n",
       "      <td>8.082868</td>\n",
       "      <td>-0.0</td>\n",
       "    </tr>\n",
       "  </tbody>\n",
       "</table>\n",
       "<p>5 rows × 67712 columns</p>\n",
       "</div>"
      ],
      "text/plain": [
       "         f_0  f_1       f_2       f_3  f_4       f_5  f_6  f_7  f_8  \\\n",
       "0  11.598362 -0.0  1.402852  0.782177 -0.0  0.592898 -0.0 -0.0 -0.0   \n",
       "1  15.457705 -0.0  1.255111  2.472802 -0.0  1.364558 -0.0 -0.0 -0.0   \n",
       "2   8.755809 -0.0  0.144327  0.668798 -0.0  0.504480 -0.0 -0.0 -0.0   \n",
       "3  18.097448 -0.0  1.419700  2.432855 -0.0  1.586319 -0.0 -0.0 -0.0   \n",
       "4  10.592823 -0.0  0.549146  1.956214 -0.0  1.165373 -0.0 -0.0 -0.0   \n",
       "\n",
       "         f_9   ...      f_67702    f_67703   f_67704    f_67705   f_67706  \\\n",
       "0   5.907177   ...     0.416431   8.404563  3.609438   9.471940 -0.000000   \n",
       "1   8.699785   ...     2.207372  11.659542  5.516461  10.099456 -0.000000   \n",
       "2   4.203548   ...     0.248999   4.416994  2.754700   6.235694  0.698579   \n",
       "3  10.220373   ...     2.239665  12.368978  5.060144   9.938421 -0.000000   \n",
       "4   5.830818   ...     2.310171  14.157263  7.132648  12.166813 -0.000000   \n",
       "\n",
       "   f_67707   f_67708    f_67709   f_67710  f_67711  \n",
       "0     -0.0  0.472691  18.071760  6.395085     -0.0  \n",
       "1     -0.0  0.451292  22.230301  7.521552     -0.0  \n",
       "2     -0.0  1.981976  10.901007  3.142677     -0.0  \n",
       "3     -0.0  0.669937  22.822136  7.763309     -0.0  \n",
       "4     -0.0  1.198488  24.739262  8.082868     -0.0  \n",
       "\n",
       "[5 rows x 67712 columns]"
      ]
     },
     "execution_count": 16,
     "metadata": {},
     "output_type": "execute_result"
    }
   ],
   "source": [
    "train_features.head()"
   ]
  },
  {
   "cell_type": "code",
   "execution_count": 17,
   "metadata": {},
   "outputs": [],
   "source": [
    "from sklearn.ensemble import RandomForestClassifier"
   ]
  },
  {
   "cell_type": "code",
   "execution_count": 18,
   "metadata": {},
   "outputs": [
    {
     "data": {
      "text/plain": [
       "RandomForestClassifier(bootstrap=True, class_weight=None, criterion='gini',\n",
       "            max_depth=None, max_features='auto', max_leaf_nodes=None,\n",
       "            min_impurity_decrease=0.0, min_impurity_split=None,\n",
       "            min_samples_leaf=1, min_samples_split=2,\n",
       "            min_weight_fraction_leaf=0.0, n_estimators=300, n_jobs=None,\n",
       "            oob_score=False, random_state=100, verbose=0, warm_start=False)"
      ]
     },
     "execution_count": 18,
     "metadata": {},
     "output_type": "execute_result"
    }
   ],
   "source": [
    "rf = RandomForestClassifier(n_estimators = 300, random_state = 100)\n",
    "\n",
    "rf.fit(train_features, labels)"
   ]
  },
  {
   "cell_type": "code",
   "execution_count": 19,
   "metadata": {},
   "outputs": [],
   "source": [
    "test_features=np.zeros(shape=(1994,67712))"
   ]
  },
  {
   "cell_type": "code",
   "execution_count": 20,
   "metadata": {},
   "outputs": [],
   "source": [
    "root_dir = 'chn/test_images'\n",
    "labels_test = []\n",
    "i = 0\n",
    "\n",
    "all_img_paths = glob.glob(os.path.join(root_dir, '*'))\n",
    "np.random.shuffle(all_img_paths)\n",
    "for img_path in all_img_paths:\n",
    "    img = cv2.imread(img_path, cv2.IMREAD_COLOR)\n",
    "    img = cv2.resize(img, (img_size, img_size))\n",
    "    img = cv2.cvtColor(img, cv2.COLOR_RGB2BGR)\n",
    "    # roll color axis to axis 0\n",
    "    img = np.rollaxis(img, -1)\n",
    "    img = np.expand_dims(img, axis=0)\n",
    "    fc_out = fc_layer.predict(img)\n",
    "    test_features[i]=fc_out\n",
    "    i += 1\n",
    "    label = get_class(img_path)\n",
    "    labels_test.append(label)"
   ]
  },
  {
   "cell_type": "code",
   "execution_count": 21,
   "metadata": {},
   "outputs": [
    {
     "name": "stdout",
     "output_type": "stream",
     "text": [
      "Training Features Shape: (1994, 67712)\n"
     ]
    }
   ],
   "source": [
    "#Create DataFrame with features and coloumn name\n",
    "test_features=pd.DataFrame(data=test_features,columns=feature_col)\n",
    "feature_col = np.array(feature_col)\n",
    "\n",
    "print('Training Features Shape:', test_features.shape)"
   ]
  },
  {
   "cell_type": "code",
   "execution_count": 22,
   "metadata": {},
   "outputs": [],
   "source": [
    "preds = rf.predict(test_features)"
   ]
  },
  {
   "cell_type": "code",
   "execution_count": 23,
   "metadata": {},
   "outputs": [],
   "source": [
    "from sklearn.metrics import accuracy_score"
   ]
  },
  {
   "cell_type": "code",
   "execution_count": 24,
   "metadata": {},
   "outputs": [
    {
     "data": {
      "text/plain": [
       "0.5376128385155466"
      ]
     },
     "execution_count": 24,
     "metadata": {},
     "output_type": "execute_result"
    }
   ],
   "source": [
    "accuracy_score(preds,labels_test)"
   ]
  },
  {
   "cell_type": "code",
   "execution_count": 27,
   "metadata": {},
   "outputs": [],
   "source": [
    "from sklearn.ensemble import GradientBoostingClassifier"
   ]
  },
  {
   "cell_type": "code",
   "execution_count": 30,
   "metadata": {},
   "outputs": [],
   "source": [
    "gb = GradientBoostingClassifier(n_estimators = 10, random_state = 100)"
   ]
  },
  {
   "cell_type": "code",
   "execution_count": 31,
   "metadata": {},
   "outputs": [
    {
     "data": {
      "text/plain": [
       "GradientBoostingClassifier(criterion='friedman_mse', init=None,\n",
       "              learning_rate=0.1, loss='deviance', max_depth=3,\n",
       "              max_features=None, max_leaf_nodes=None,\n",
       "              min_impurity_decrease=0.0, min_impurity_split=None,\n",
       "              min_samples_leaf=1, min_samples_split=2,\n",
       "              min_weight_fraction_leaf=0.0, n_estimators=10,\n",
       "              n_iter_no_change=None, presort='auto', random_state=100,\n",
       "              subsample=1.0, tol=0.0001, validation_fraction=0.1,\n",
       "              verbose=0, warm_start=False)"
      ]
     },
     "execution_count": 31,
     "metadata": {},
     "output_type": "execute_result"
    }
   ],
   "source": [
    "gb.fit(train_features, labels)"
   ]
  },
  {
   "cell_type": "code",
   "execution_count": 34,
   "metadata": {},
   "outputs": [],
   "source": [
    "preds_gb = gb.predict(test_features)"
   ]
  },
  {
   "cell_type": "code",
   "execution_count": 36,
   "metadata": {},
   "outputs": [
    {
     "data": {
      "text/plain": [
       "0.3650952858575727"
      ]
     },
     "execution_count": 36,
     "metadata": {},
     "output_type": "execute_result"
    }
   ],
   "source": [
    "accuracy_score(preds_gb,labels_test)"
   ]
  }
 ],
 "metadata": {
  "kernelspec": {
   "display_name": "Python 3",
   "language": "python",
   "name": "python3"
  },
  "language_info": {
   "codemirror_mode": {
    "name": "ipython",
    "version": 3
   },
   "file_extension": ".py",
   "mimetype": "text/x-python",
   "name": "python",
   "nbconvert_exporter": "python",
   "pygments_lexer": "ipython3",
   "version": "3.6.6"
  }
 },
 "nbformat": 4,
 "nbformat_minor": 2
}
